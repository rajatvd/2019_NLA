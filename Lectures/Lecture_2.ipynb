{
 "cells": [
  {
   "cell_type": "markdown",
   "metadata": {},
   "source": [
    "<b>Date: July 30, 2019</b>\n",
    "\n",
    "### Representation of numbers on a computer\n",
    "\n",
    "Given that any computer has limited storage capacity, we can represent only finitely many numbers on a computer. Thus, inevitably, we have to deal with approximations of the real number system using finite computer representations. To arrive at a consistent representation of floating point numbers across different computer architecture, the most widely used and accepted standard is the Institute of Electrical and Electronics Engineers (IEEE-754) standard for representing real numbers. First note that all numbers are stored in binary (base $2$) format. Any *normal* number on the machine is represented as\n",
    "\t$$x = \\pm 1.d_1d_2\\ldots d_s \\times 2^{e}$$\n",
    "where $1.d_1d_2\\ldots d_s$ is the significand and $e$ is the exponent (both represented using $0$'s and $1$'s). For example, consider the number $77$ in decimal. We have\n",
    "\t$$77_{10} = 2^6 + 2^3 + 2^2 + 2^0 = 1001101_2 = 1.001101_2 \\times 2^{6} = 1.001101_2 \\times 2^{110_{2}}$$\n",
    "    <img src=\"./../images/FPR.png\">\n",
    "As indicated in the Figure above, the first bit is the sign bit, the next $e$ bits are for the exponent and the last $s$ bits are for the significand. We will now list the general conventions followed in accordance with the IEEE-754 standard.\n",
    "\n",
    "<ul>\n",
    "    <li><b>Sign bit:</b> $0$ indicates $+$ and $1$ indicates $-$.</li>\n",
    "    <li><b>Exponent bit:</b> Since there are $e$ bits for the exponent, there are a total of $2^e$ values the exponent can take. To represent negative exponents as well, a bias of $2^{e-1}-1$ is introduced, i.e., $0$ exponent is represented as $0\\overbrace{111\\ldots1}^{e-1}_2$</li>\n",
    "    <li><b>Significand bit:</b> Stores the leading bits in the mantissa apart from the leading $1$.</li>\n",
    "</ul>\n",
    "<img src=\"./../images/FPR_table.png\">\n",
    "\n",
    "#### Normal floating point number\n",
    "\n",
    "These are represented as\n",
    "$$\\pm 1.d_1d_2\\ldots d_s \\times 2^{E}$$\n",
    "where $2-2^{e-1} \\leq E \\leq 2^{e-1}-1$ (after bias). Note that since normal floating point numbers begin with $1$, it suffices to store the $s$ bits after the leading $1$.\n",
    "    <img src=\"./../images/Positive_Normal_Floating_Point_Number.png\">\n",
    "\n",
    "#### Sub-normal floating point number\n",
    "\n",
    "These are respresented as\n",
    "$$\\pm 0. d_1d_2\\ldots d_s \\times 2^{2-2^{e-1}}$$\n",
    "The exponent bits of sub-normal floating point numbers are all zero. The significand stores the $s$ bits after the leading $0$.\n",
    "\n",
    "#### Machine precision\n",
    "\n",
    "This is defined as the difference between the smallest number exceeding $1$ that can be represented on the machine and $1$ (There are slightly different definitions depending on the way rounding is done. In this article, we will assume that by rounding we mean truncating or chopping off the digits. Depending on that the definition of machine precision changes.). Note that the smallest number exceeding $1$ that can be represented on the machine is $1.000\\ldots01 = 1+2^{-s}$.\n",
    "\n",
    "Hence, machine precision is $\\epsilon_m = 2^{-s}$.\n",
    "\n",
    "Note that if $x$ is any real number and $\\text{fl}(x)$ is the floating point representation of $x$ (i.e., after appropriate chopping, $x$ will be represented as $\\text{fl}(x)$ on the machine, we then have\n",
    "$$\\left \\lvert{\\dfrac{x-\\text{fl}(x)}{\\text{fl}(x)}}\\right \\rvert \\leq \\epsilon_m$$\n",
    "\n",
    "From the above, note that floating point representation introduces relative errors and not absolute errors.\n",
    "\n",
    "**Single precision**: Of the total of $32$ bits, the first one is alloted for sign, the next $8$ for exponent and the remaining $23$ for significand.\n",
    "\n",
    "**Double precision**: Of the total of $64$ bits, the first one is alloted for sign, the next $11$ for exponent and the remaining $52$ for significand.\n",
    "<img src=\"./../images/FPR_single_and_double_precision.png\">"
   ]
  },
  {
   "cell_type": "code",
   "execution_count": null,
   "metadata": {},
   "outputs": [],
   "source": []
  }
 ],
 "metadata": {
  "kernelspec": {
   "display_name": "Python 3",
   "language": "python",
   "name": "python3"
  },
  "language_info": {
   "codemirror_mode": {
    "name": "ipython",
    "version": 3
   },
   "file_extension": ".py",
   "mimetype": "text/x-python",
   "name": "python",
   "nbconvert_exporter": "python",
   "pygments_lexer": "ipython3",
   "version": "3.6.6"
  }
 },
 "nbformat": 4,
 "nbformat_minor": 2
}
