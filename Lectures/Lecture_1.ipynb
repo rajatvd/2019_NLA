{
 "cells": [
  {
   "cell_type": "markdown",
   "metadata": {},
   "source": [
    "<b>Date: July 29, 2019</b>\n",
    "\n",
    "<li>\n",
    "Course website and other logistics\n",
    "<li>\n",
    "Motivation: Why do this course?\n",
    "    <ul>\n",
    "    <li>\n",
    "    You can make &#8377;'s, &euro;'s &#36;'s etc; <a href=\"https://drive.google.com/file/d/1IUtUvdTRW_dW8UF0fc5mGZBuI26q9Lq7/view\">The \\$25,000,000,000 Eigenvector:\n",
    "The Linear Algebra Behind Google</a>\n",
    "    <li>\n",
    "    There are tons of open problems, when solved also turns out to be of practical relevance;\n",
    "    <ul>\n",
    "    <li>\n",
    "    <a href=\"https://people.maths.ox.ac.uk/trefethen/nov12.pdf\">The Smart Money’s on Numerical Analysts</a>\n",
    "    <li>\n",
    "    <a href=\"https://drive.google.com/file/d/1vqmrmX8RY1g-EdhYtAbQNgfr1qb2AtD-/view\">Open problems in Matrix Theory</a>\n",
    "    <li>\n",
    "    <a href=\"https://drive.google.com/file/d/1JTFNbP7114gCKfuOt_JjeeLZIK98_jho/view\">Open problems in Numerical Linear Algebra</a>\n",
    "    </ul>\n",
    "    </ul>\n",
    "<li>\n",
    "The focus of this course will be on learning and developing stable algorithms for various matrix problems as mentioned below.\n",
    "    <ul>\n",
    "    <li>\n",
    "    Solving Linear systems: $LU$, $LL^T$\n",
    "    <li>\n",
    "    Least Square and least norm problem: $QR$ decomposition\n",
    "    <li>\n",
    "    Singular Value Decomposition: $U\\Sigma V^T$\n",
    "    <li>\n",
    "    Eigen Value Decomposition: $X\\Lambda X^{-1}$\n",
    "    <li>\n",
    "    Iterative methods: Krylov subspace methods including Lanczos, Arnoldi, Conjugate Gradient, GMRES.\n",
    "    <li>\n",
    "    Preconditioning and structured matrix computations.\n",
    "    </ul>\n",
    "\n",
    "However, before we proceed with the above, we will first look at three crucial aspects that are important for any computing course. These are:\n",
    "\n",
    "<li> Floating point arithmetic\n",
    "<li> Conditioning of a problem\n",
    "<li> Stability of an algorithm"
   ]
  }
 ],
 "metadata": {
  "kernelspec": {
   "display_name": "C++11",
   "language": "C++11",
   "name": "xcpp11"
  },
  "language_info": {
   "codemirror_mode": "text/x-c++src",
   "file_extension": ".cpp",
   "mimetype": "text/x-c++src",
   "name": "c++",
   "version": "-std=c++11"
  }
 },
 "nbformat": 4,
 "nbformat_minor": 2
}
